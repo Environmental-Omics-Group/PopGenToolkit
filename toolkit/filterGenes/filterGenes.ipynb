{
 "cells": [
  {
   "cell_type": "markdown",
   "metadata": {},
   "source": [
    "# Filter Genes and SNPs"
   ]
  },
  {
   "cell_type": "markdown",
   "metadata": {},
   "source": [
    "## 0. Prerequisites"
   ]
  },
  {
   "cell_type": "markdown",
   "metadata": {},
   "source": [
    "### 0.1. Dependencies"
   ]
  },
  {
   "cell_type": "code",
   "execution_count": 1,
   "metadata": {},
   "outputs": [],
   "source": [
    "import re\n",
    "import numpy as np\n",
    "from operator import itemgetter\n",
    "from kagami.comm import unpack, smap, pmap, drop, pick, pickmap, collapse, paste\n",
    "from kagami.dtypes import Table\n",
    "from kagami.portals import tablePortal"
   ]
  },
  {
   "cell_type": "markdown",
   "metadata": {},
   "source": [
    "### 0.2. Routines"
   ]
  },
  {
   "cell_type": "code",
   "execution_count": 2,
   "metadata": {},
   "outputs": [],
   "source": [
    "_gidre = re.compile('gene=(Dapma7bEVm\\d{6});')\n",
    "_gid   = lambda x: _gidre.findall(x[-1])[0]\n",
    "_gids  = lambda x: np.unique(smap(x, _gid))"
   ]
  },
  {
   "cell_type": "code",
   "execution_count": 3,
   "metadata": {},
   "outputs": [],
   "source": [
    "def _unique(x, ignore = ''):\n",
    "    ux = np.unique(x)\n",
    "    return ux[ux != ignore]"
   ]
  },
  {
   "cell_type": "markdown",
   "metadata": {},
   "source": [
    "## 1. Load Data"
   ]
  },
  {
   "cell_type": "markdown",
   "metadata": {},
   "source": [
    "### 1.1. Load GFF"
   ]
  },
  {
   "cell_type": "code",
   "execution_count": 4,
   "metadata": {},
   "outputs": [
    {
     "name": "stdout",
     "output_type": "stream",
     "text": [
      "total data lines = 366882\n"
     ]
    }
   ],
   "source": [
    "gff = tablePortal.loadtsv(\n",
    "    '../../data/references/dmagset7finloc9b.puban.gff'\n",
    ")\n",
    "\n",
    "gff = drop(gff, lambda x: len(x) == 0 or x[0].startswith('#'))\n",
    "assert len(set(smap(gff,len))) == 1\n",
    "print(f'total data lines = {len(gff)}')"
   ]
  },
  {
   "cell_type": "code",
   "execution_count": 5,
   "metadata": {},
   "outputs": [
    {
     "name": "stdout",
     "output_type": "stream",
     "text": [
      "total mRNA lines in scaffolds = 43950\n"
     ]
    }
   ],
   "source": [
    "mgff = pick(gff, lambda x: x[2] == 'mRNA')\n",
    "mgff = pick(mgff, lambda x: x[0].startswith('scaffold'))\n",
    "mgff = smap(mgff, itemgetter(0,3,4,-1))\n",
    "print(f'total mRNA lines in scaffolds = {len(mgff)}')"
   ]
  },
  {
   "cell_type": "markdown",
   "metadata": {},
   "source": [
    "### 1.2. Filter by top scaffolds"
   ]
  },
  {
   "cell_type": "markdown",
   "metadata": {},
   "source": [
    "Select genes in top scaffolds"
   ]
  },
  {
   "cell_type": "code",
   "execution_count": 6,
   "metadata": {},
   "outputs": [
    {
     "name": "stdout",
     "output_type": "stream",
     "text": [
      "top scaffolds = 293\n"
     ]
    }
   ],
   "source": [
    "topscf = np.unique(tablePortal.loadcsv(\n",
    "    '../../data/references/top_293_scaffolds'\n",
    "))\n",
    "print(f'top scaffolds = {len(topscf)}')"
   ]
  },
  {
   "cell_type": "code",
   "execution_count": 7,
   "metadata": {},
   "outputs": [
    {
     "name": "stdout",
     "output_type": "stream",
     "text": [
      "mRNA lines in top scaffolds = 38240\n"
     ]
    }
   ],
   "source": [
    "mgff = pick(mgff, lambda x: x[0] in topscf)\n",
    "assert np.unique(smap(mgff, lambda x: x[0])).shape[0] == len(topscf)\n",
    "print(f'mRNA lines in top scaffolds = {len(mgff)}')"
   ]
  },
  {
   "cell_type": "markdown",
   "metadata": {},
   "source": [
    "### 1.3. Load SNPs"
   ]
  },
  {
   "cell_type": "markdown",
   "metadata": {},
   "source": [
    "Option 1: Load SNPs from vcflib result"
   ]
  },
  {
   "cell_type": "code",
   "execution_count": 8,
   "metadata": {},
   "outputs": [],
   "source": [
    "snpdm = np.array(tablePortal.loadtsv(\n",
    "    '../../data/temporal/BMT_filter_withoutAF_90percent_BM_AFs'\n",
    "))\n",
    "snplst = np.unique(smap(snpdm[:,:2], lambda x: paste(x, sep = '_')))"
   ]
  },
  {
   "cell_type": "markdown",
   "metadata": {},
   "source": [
    "Option 2: Load SNPs from list file"
   ]
  },
  {
   "cell_type": "code",
   "execution_count": null,
   "metadata": {},
   "outputs": [],
   "source": [
    "snplst = np.array(tablePortal.loadcsv(\n",
    "    '../../data/temporal/BMT_filter_withoutAF_90percent_BMT_shared_loci'\n",
    ")).flatten()"
   ]
  },
  {
   "cell_type": "code",
   "execution_count": 9,
   "metadata": {},
   "outputs": [
    {
     "name": "stdout",
     "output_type": "stream",
     "text": [
      "total number of SNPs = 1257108\n"
     ]
    }
   ],
   "source": [
    "snps = Table(\n",
    "    np.zeros((snplst.shape[0],1)), \n",
    "    rownames = snplst, \n",
    "    rowindex = {\n",
    "        'scaffold': smap(snplst, lambda x: x.split('_',1)[0]),\n",
    "        'pos': smap(snplst, lambda x: int(x.split('_',1)[1])),\n",
    "    },\n",
    ")\n",
    "\n",
    "# sort position\n",
    "sids = sorted(snps.rows_, key = lambda x: unpack(lambda s,p:(int(s[8:]),int(p)))(x.split('_',1)))\n",
    "snps = snps[sids]\n",
    "\n",
    "print(f'total number of SNPs = {snps.nrow}')"
   ]
  },
  {
   "cell_type": "markdown",
   "metadata": {},
   "source": [
    "## 2. Filter Genes"
   ]
  },
  {
   "cell_type": "markdown",
   "metadata": {},
   "source": [
    "### 2.1. Filter by gene quality "
   ]
  },
  {
   "cell_type": "markdown",
   "metadata": {},
   "source": [
    "Select strong and non-split genes"
   ]
  },
  {
   "cell_type": "code",
   "execution_count": 10,
   "metadata": {},
   "outputs": [
    {
     "name": "stdout",
     "output_type": "stream",
     "text": [
      "unique genes in top scaffolds = 35362\n",
      "split genes = 3989\n",
      "non-strong genes = 15025\n",
      "gene number after filtering = 17197\n"
     ]
    }
   ],
   "source": [
    "agids = _gids(mgff)\n",
    "print(f'unique genes in top scaffolds = {len(agids)}')\n",
    "\n",
    "_sgids  = lambda x: _gids(pick(x, lambda v: len(re.findall('Split=.+?;', v[-1])) > 0))\n",
    "sgids = _sgids(mgff)\n",
    "print(f'split genes = {len(sgids)}')\n",
    "\n",
    "_wgids  = lambda x: _gids(pick(x, lambda v: 'quality=Class:Strong' not in v[-1]))\n",
    "wgids = _wgids(mgff)\n",
    "print(f'non-strong genes = {len(wgids)}')\n",
    "\n",
    "genes = np.setdiff1d(agids, np.union1d(sgids, wgids))\n",
    "print(f'gene number after filtering = {len(genes)}')"
   ]
  },
  {
   "cell_type": "markdown",
   "metadata": {},
   "source": [
    "Save top genes if necessary"
   ]
  },
  {
   "cell_type": "code",
   "execution_count": 11,
   "metadata": {},
   "outputs": [
    {
     "data": {
      "text/plain": [
       "True"
      ]
     },
     "execution_count": 11,
     "metadata": {},
     "output_type": "execute_result"
    }
   ],
   "source": [
    "tablePortal.savecsv(genes.reshape((-1,1)), \n",
    "    '../../data/references/top_293_scaffolds_strong_nonsplit_genes'\n",
    ")"
   ]
  },
  {
   "cell_type": "code",
   "execution_count": 12,
   "metadata": {},
   "outputs": [
    {
     "name": "stdout",
     "output_type": "stream",
     "text": [
      "number of scaffolds contain genes after filtering = 291\n"
     ]
    }
   ],
   "source": [
    "ggff = pick(mgff, lambda x: _gid(x) in genes)\n",
    "assert len(ggff) == len(genes) # No gene should exist in two lines\n",
    "\n",
    "gscf = np.unique(smap(ggff, itemgetter(0)))\n",
    "print(f'number of scaffolds contain genes after filtering = {len(gscf)}')"
   ]
  },
  {
   "cell_type": "markdown",
   "metadata": {},
   "source": [
    "### 2.2. Filter by SNPs"
   ]
  },
  {
   "cell_type": "markdown",
   "metadata": {},
   "source": [
    "Select genes contain at least one SNP"
   ]
  },
  {
   "cell_type": "code",
   "execution_count": 13,
   "metadata": {},
   "outputs": [],
   "source": [
    "def _filter(scf):\n",
    "    sgff = pick(ggff, lambda x: x[0] == scf)\n",
    "    rngs = np.array(smap(sgff, itemgetter(1,2)), dtype = int)\n",
    "    assert np.all(rngs[:,1] - rngs[:,0] > 0)\n",
    "\n",
    "    spos = snps.ridx_.pos[snps.ridx_.scaffold == scf]\n",
    "    \n",
    "    slns = np.where(smap(rngs, lambda x: np.any(np.logical_and(x[0] <= spos, spos <= x[1]))))[0]\n",
    "    if len(slns) == 0: return ()\n",
    "    \n",
    "    sgff = itemgetter(*slns)(sgff)\n",
    "    return (sgff,) if isinstance(sgff[0], str) else sgff\n",
    "sgffs = pmap(gscf, _filter)"
   ]
  },
  {
   "cell_type": "code",
   "execution_count": 14,
   "metadata": {},
   "outputs": [
    {
     "name": "stdout",
     "output_type": "stream",
     "text": [
      "mRNA lines with SNPs = 16862\n"
     ]
    }
   ],
   "source": [
    "ggff = collapse(sgffs)\n",
    "assert len(set(smap(ggff,len))) == 1\n",
    "assert len(ggff) == len(_gids(ggff))\n",
    "print(f'mRNA lines with SNPs = {len(ggff)}')"
   ]
  },
  {
   "cell_type": "markdown",
   "metadata": {},
   "source": [
    "### 2.3. Filter by gene overlaps"
   ]
  },
  {
   "cell_type": "markdown",
   "metadata": {},
   "source": [
    "Remove SNPs locate in the overlapping region of more than one genes or outside any gene\n",
    "\n",
    "Remove genes with all the SNPs locate in the overlapping region with another gene"
   ]
  },
  {
   "cell_type": "code",
   "execution_count": 15,
   "metadata": {},
   "outputs": [],
   "source": [
    "def _filter(scf):\n",
    "    sgff = pick(ggff, lambda x: x[0] == scf)\n",
    "    rngs = np.array(smap(sgff, itemgetter(1,2)), dtype = int)\n",
    "    assert np.all(rngs[:,1] - rngs[:,0] > 0)\n",
    "\n",
    "    ssnp = snps[snps.ridx_.scaffold == scf]\n",
    "    spos = ssnp.ridx_.pos\n",
    "\n",
    "    cnts = np.zeros(max(np.max(rngs), np.max(spos)), dtype = np.uint8) # less than 255 genes overlapping\n",
    "    for rng in rngs: cnts[rng[0]-1:rng[1]] += 1\n",
    "\n",
    "    rpos = spos[cnts[spos-1] == 1]\n",
    "    ssnp = ssnp[smap(spos, lambda x: x in rpos)]\n",
    "\n",
    "    slns = np.where(smap(rngs, lambda x: np.any(np.logical_and(x[0] <= rpos, rpos <= x[1]))))[0]\n",
    "    sgff = itemgetter(*slns)(sgff) if len(slns) > 0 else ()\n",
    "    \n",
    "    return ((sgff,) if isinstance(sgff[0], str) else sgff, ssnp)\n",
    "sgffs, ssnps = zip(*pmap(gscf, _filter))"
   ]
  },
  {
   "cell_type": "code",
   "execution_count": 16,
   "metadata": {},
   "outputs": [
    {
     "name": "stdout",
     "output_type": "stream",
     "text": [
      "mRNA lines with unique SNPs = 12430\n",
      "SNPs in filtered genes and outside overlapping regions = 527112\n"
     ]
    }
   ],
   "source": [
    "ggff, gsnps = collapse(sgffs), collapse(ssnps)\n",
    "assert len(set(smap(ggff,len))) == 1\n",
    "assert len(ggff) == len(_gids(ggff))\n",
    "print(f'mRNA lines with unique SNPs = {len(ggff)}')\n",
    "print(f'SNPs in filtered genes and outside overlapping regions = {len(gsnps)}')"
   ]
  },
  {
   "cell_type": "markdown",
   "metadata": {},
   "source": [
    "Save filtered genes if necessary"
   ]
  },
  {
   "cell_type": "code",
   "execution_count": 17,
   "metadata": {},
   "outputs": [
    {
     "data": {
      "text/plain": [
       "True"
      ]
     },
     "execution_count": 17,
     "metadata": {},
     "output_type": "execute_result"
    }
   ],
   "source": [
    "gids = _gids(ggff)\n",
    "tablePortal.savecsv(gids.reshape((-1,1)), \n",
    "    '../../data/temporal/BMT_filter_withoutAF_90percent_BMT_shared_loci_filtered_genes'\n",
    ")"
   ]
  },
  {
   "cell_type": "markdown",
   "metadata": {},
   "source": [
    "## 3. Filter SNPs"
   ]
  },
  {
   "cell_type": "markdown",
   "metadata": {},
   "source": [
    "### 3.1. Select SNPs outside any gene"
   ]
  },
  {
   "cell_type": "code",
   "execution_count": 18,
   "metadata": {},
   "outputs": [],
   "source": [
    "def _filter(scf):\n",
    "    sgff = pick(mgff, lambda x: x[0] == scf)\n",
    "    rngs = np.array(smap(sgff, itemgetter(1,2)), dtype = int)\n",
    "    assert np.all(rngs[:,1] - rngs[:,0] > 0)\n",
    "\n",
    "    ssnp = snps[snps.ridx_.scaffold == scf]\n",
    "    spos = ssnp.ridx_.pos\n",
    "\n",
    "    rpos = pick(spos, lambda x: not np.any(np.logical_and(rngs[:,0] <= x, x <= rngs[:,1])))\n",
    "    ssnp = ssnp[smap(spos, lambda x: x in rpos)]\n",
    "    return ssnp\n",
    "ssnps = pmap(topscf, _filter)"
   ]
  },
  {
   "cell_type": "code",
   "execution_count": 19,
   "metadata": {},
   "outputs": [
    {
     "name": "stdout",
     "output_type": "stream",
     "text": [
      "SNPs outside genes = 394686\n"
     ]
    }
   ],
   "source": [
    "osnps = collapse(ssnps)\n",
    "print(f'SNPs outside genes = {len(osnps)}')"
   ]
  },
  {
   "cell_type": "markdown",
   "metadata": {},
   "source": [
    "### 3.2. Save filtered SNPs to file"
   ]
  },
  {
   "cell_type": "code",
   "execution_count": 20,
   "metadata": {},
   "outputs": [
    {
     "name": "stdout",
     "output_type": "stream",
     "text": [
      "number of SNPs after filtering = 921798\n"
     ]
    }
   ],
   "source": [
    "asnps = gsnps + osnps\n",
    "\n",
    "_re = re.compile('scaffold(\\d{5})_(\\d+)')\n",
    "asnps = asnps[sorted(asnps.rows_, key = lambda x: smap(_re.findall(x)[0],int))]\n",
    "\n",
    "print(f'number of SNPs after filtering = {len(asnps)}')"
   ]
  },
  {
   "cell_type": "code",
   "execution_count": null,
   "metadata": {},
   "outputs": [],
   "source": [
    "tablePortal.savecsv(np.array(asnps.rows_).reshape((-1,1)),\n",
    "    '../../data/temporal/BMT_filter_withoutAF_90percent_BMT_shared_loci_filtered_loci'\n",
    ")"
   ]
  }
 ],
 "metadata": {
  "kernelspec": {
   "display_name": "Python3",
   "language": "python",
   "name": "python3"
  },
  "language_info": {
   "codemirror_mode": {
    "name": "ipython",
    "version": 3
   },
   "file_extension": ".py",
   "mimetype": "text/x-python",
   "name": "python",
   "nbconvert_exporter": "python",
   "pygments_lexer": "ipython3",
   "version": "3.7.6"
  },
  "toc-autonumbering": false,
  "toc-showcode": false,
  "toc-showmarkdowntxt": false,
  "toc-showtags": false
 },
 "nbformat": 4,
 "nbformat_minor": 4
}
