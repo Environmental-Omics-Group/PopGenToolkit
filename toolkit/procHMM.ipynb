{
 "cells": [
  {
   "cell_type": "markdown",
   "metadata": {},
   "source": [
    "# HMM Islands Modelling and Analysis"
   ]
  },
  {
   "cell_type": "markdown",
   "metadata": {},
   "source": [
    "## 0. Prerequisites"
   ]
  },
  {
   "cell_type": "markdown",
   "metadata": {},
   "source": [
    "### 0.1. Dependencies"
   ]
  },
  {
   "cell_type": "code",
   "execution_count": null,
   "metadata": {},
   "outputs": [],
   "source": [
    "import re\n",
    "import pickle as pkl\n",
    "import numpy as np\n",
    "\n",
    "from operator import itemgetter\n",
    "from collections import Counter\n",
    "\n",
    "from scipy.stats import mannwhitneyu, chi2\n",
    "from kagami.comm import l, paste, smap, pmap, unpack, fold\n",
    "from kagami.dtypes import Table"
   ]
  },
  {
   "cell_type": "markdown",
   "metadata": {},
   "source": [
    "### 0.2. Routines"
   ]
  },
  {
   "cell_type": "code",
   "execution_count": null,
   "metadata": {},
   "outputs": [],
   "source": [
    "def _unique(x, ignore = ''):\n",
    "    ux = np.unique(x)\n",
    "    return ux[ux != ignore]"
   ]
  },
  {
   "cell_type": "code",
   "execution_count": null,
   "metadata": {},
   "outputs": [],
   "source": [
    "def _ordunique(a):\n",
    "    a = np.asarray(a)\n",
    "    _, idx = np.unique(a, return_index = True)\n",
    "    return a[np.sort(idx)]"
   ]
  },
  {
   "cell_type": "markdown",
   "metadata": {},
   "source": [
    "### 0.3. Load merged data"
   ]
  },
  {
   "cell_type": "code",
   "execution_count": null,
   "metadata": {},
   "outputs": [],
   "source": [
    "otab = Table.loadhdf(\n",
    "    '../data/temporal/BMT_filter_withoutAF_90percent.filtered.merged_table.hdf',\n",
    ")"
   ]
  },
  {
   "cell_type": "markdown",
   "metadata": {},
   "source": [
    "## 1. HMM Islands"
   ]
  },
  {
   "cell_type": "markdown",
   "metadata": {},
   "source": [
    "### 1.1. Identify islands"
   ]
  },
  {
   "cell_type": "code",
   "execution_count": null,
   "metadata": {},
   "outputs": [],
   "source": [
    "def _hmm_islands(col, name):\n",
    "    sfs = otab.ridx_.scaffold\n",
    "    usf = _ordunique(sfs)\n",
    "    \n",
    "    _r = re.compile('(3{3,})')\n",
    "    def _summ(s,lasti):\n",
    "        stab = otab[sfs == s,col]\n",
    "        itab = Table(-np.ones_like(stab, dtype = int), \n",
    "                     rownames = otab.rows_[sfs == s], colnames = [name])\n",
    "        \n",
    "        sv = stab.X_[:,0].astype(int)\n",
    "        ss = paste(sv[sv != -1].astype(str))\n",
    "        res = list(_r.finditer(ss))\n",
    "        \n",
    "        iv = -np.ones(len(ss), dtype = int)\n",
    "        for i,r in enumerate(res): iv[r.start():r.end()] = i\n",
    "        iv[iv != -1] += lasti\n",
    "        itab.X_[sv != -1] = iv.reshape((-1,1))\n",
    "        \n",
    "        stab = stab[sv != -1]\n",
    "        lns = smap(res, lambda x: len(x.group()))\n",
    "        pos = smap(res, lambda x: np.sort(stab.ridx_.pos[slice(*x.span())]))\n",
    "        return (itab, lns, pos), max(np.max(iv)+1, lasti)\n",
    "\n",
    "    odct, lid = {}, 0\n",
    "    for sf in usf:\n",
    "        odct[sf],lid = _summ(sf,lid)\n",
    "    return odct"
   ]
  },
  {
   "cell_type": "code",
   "execution_count": null,
   "metadata": {},
   "outputs": [],
   "source": [
    "bmhdct = _hmm_islands('BM_HMM_State', 'BM_HMM_Island')\n",
    "mthdct = _hmm_islands('MT_HMM_State', 'MT_HMM_Island')"
   ]
  },
  {
   "cell_type": "markdown",
   "metadata": {},
   "source": [
    "Save to file to avoid repeat running"
   ]
  },
  {
   "cell_type": "code",
   "execution_count": null,
   "metadata": {},
   "outputs": [],
   "source": [
    "oprefix = '../data/temporal/BMT_filter_withoutAF_90percent.filtered.'\n",
    "# with open(oprefix + 'BM_hmmdct.pkl', 'wb') as f: pkl.dump(bmhdct, f)\n",
    "# with open(oprefix + 'MT_hmmdct.pkl', 'wb') as f: pkl.dump(mthdct, f)\n",
    "\n",
    "with open(oprefix + 'BM_hmmdct.pkl', 'rb') as f: bmhdct = pkl.load(f)\n",
    "with open(oprefix + 'MT_hmmdct.pkl', 'rb') as f: mthdct = pkl.load(f)    "
   ]
  },
  {
   "cell_type": "markdown",
   "metadata": {},
   "source": [
    "Insert to table"
   ]
  },
  {
   "cell_type": "code",
   "execution_count": null,
   "metadata": {},
   "outputs": [],
   "source": [
    "itabs = smap(bmhdct.values(), lambda x: x[0])\n",
    "bmitab = fold(itabs, lambda x,y: x.append(y, axis = 0))\n",
    "print(f'BM islands number = {_unique(bmitab.X_[:,0], -1).shape[0]}')\n",
    "\n",
    "itabs = smap(mthdct.values(), lambda x: x[0])\n",
    "mtitab = fold(itabs, lambda x,y: x.append(y, axis = 0))\n",
    "print(f'MT islands number = {_unique(mtitab.X_[:,0], -1).shape[0]}')"
   ]
  },
  {
   "cell_type": "code",
   "execution_count": null,
   "metadata": {},
   "outputs": [],
   "source": [
    "otab = otab.append(bmitab[otab.rows_], axis = 1).append(mtitab[otab.rows_], axis = 1)"
   ]
  },
  {
   "cell_type": "markdown",
   "metadata": {},
   "source": [
    "### 1.2. Island summary"
   ]
  },
  {
   "cell_type": "code",
   "execution_count": null,
   "metadata": {},
   "outputs": [],
   "source": [
    "iids = otab[:,['BM_HMM_Island','MT_HMM_Island']].X_.astype(int)"
   ]
  },
  {
   "cell_type": "code",
   "execution_count": null,
   "metadata": {},
   "outputs": [],
   "source": [
    "print(f'number of HGD SNPs in islands = {l(np.sum(iids != -1, axis = 0))}')"
   ]
  },
  {
   "cell_type": "code",
   "execution_count": null,
   "metadata": {},
   "outputs": [],
   "source": [
    "fsts = otab[:,['BM_Fst', 'MT_Fst']].X_\n",
    "print(f'BM mean Fst in islands = {np.mean(fsts[iids[:,0]!=-1,0])}')\n",
    "print(f'MT mean Fst in islands = {np.mean(fsts[iids[:,1]!=-1,1])}')"
   ]
  },
  {
   "cell_type": "code",
   "execution_count": null,
   "metadata": {},
   "outputs": [],
   "source": [
    "def _lens(idx):\n",
    "    uid = _unique(idx, -1)\n",
    "    return np.array(smap(uid, lambda x: np.sum(idx == x)))\n",
    "lens = pmap(iids.T, _lens)\n",
    "print(f'BM island SNPs mean = {np.mean(lens[0])}, std = {np.std(lens[0])}')\n",
    "print(f'MT island SNPs mean = {np.mean(lens[1])}, std = {np.std(lens[1])}')"
   ]
  },
  {
   "cell_type": "code",
   "execution_count": null,
   "metadata": {},
   "outputs": [],
   "source": [
    "_size = lambda dct: np.hstack(smap(dct.values(), itemgetter(2), lambda x: smap(x, lambda p: np.max(p)-np.min(p)+1)))\n",
    "bmhsize, mthsize = smap((bmhdct, mthdct), _size)\n",
    "print(f'mean island size = {[np.mean(bmhsize), np.mean(mthsize)]}')"
   ]
  },
  {
   "cell_type": "markdown",
   "metadata": {},
   "source": [
    "## 2. Outliers"
   ]
  },
  {
   "cell_type": "markdown",
   "metadata": {},
   "source": [
    "### 2.1. Overall outliers"
   ]
  },
  {
   "cell_type": "code",
   "execution_count": null,
   "metadata": {},
   "outputs": [],
   "source": [
    "pvals = otab[:,['BM_Waples_Test_P', 'MT_Waples_Test_P']].X_.T\n",
    "bmoutls, mtoutls = smap(pvals, lambda x: np.logical_and(~np.isnan(x), x < 0.01))\n",
    "print(f'BM outliers = {np.sum(bmoutls)}')\n",
    "print(f'MT outliers = {np.sum(mtoutls)}')"
   ]
  },
  {
   "cell_type": "code",
   "execution_count": null,
   "metadata": {},
   "outputs": [],
   "source": [
    "bmsgids, mtsgids = smap([bmoutls, mtoutls], lambda x: _unique(otab[x].ridx_.gene, ''))\n",
    "print(f'BM genes with outlier = {len(bmsgids)}')\n",
    "print(f'MT genes with outlier = {len(mtsgids)}')"
   ]
  },
  {
   "cell_type": "markdown",
   "metadata": {},
   "source": [
    "### 2.2. Reversal outliers"
   ]
  },
  {
   "cell_type": "code",
   "execution_count": null,
   "metadata": {},
   "outputs": [],
   "source": [
    "afs = otab[:,['B_AFs','M_AFs','T_AFs']].X_\n",
    "majors = afs[:,0] > 0.5\n",
    "afs[majors] = 1- afs[majors]"
   ]
  },
  {
   "cell_type": "code",
   "execution_count": null,
   "metadata": {},
   "outputs": [],
   "source": [
    "rloci = np.logical_or(\n",
    "    np.logical_and(afs[:,0] < afs[:,1], afs[:,1] > afs[:,2]),\n",
    "    np.logical_and(afs[:,0] > afs[:,1], afs[:,1] < afs[:,2]),    \n",
    ")\n",
    "print(f'reversal loci = {np.sum(rloci)}')\n",
    "\n",
    "dloci = np.logical_or(\n",
    "    np.logical_and(afs[:,0] < afs[:,1], afs[:,1] < afs[:,2]),\n",
    "    np.logical_and(afs[:,0] > afs[:,1], afs[:,1] > afs[:,2]),\n",
    ")\n",
    "print(f'directional loci = {np.sum(dloci)}')"
   ]
  },
  {
   "cell_type": "code",
   "execution_count": null,
   "metadata": {},
   "outputs": [],
   "source": [
    "outls = np.logical_and(bmoutls, mtoutls)\n",
    "\n",
    "orloci = np.logical_and(rloci, outls)\n",
    "print(f'reversal outlier loci = {np.sum(orloci)}')\n",
    "odloci = np.logical_and(dloci, outls)\n",
    "print(f'directional outlier loci = {np.sum(odloci)}')"
   ]
  },
  {
   "cell_type": "code",
   "execution_count": null,
   "metadata": {},
   "outputs": [],
   "source": [
    "iolaps = np.logical_and.reduce(otab[:,['BM_HMM_Island', 'MT_HMM_Island']].X_.astype(int).T != -1)\n",
    "\n",
    "iorloci = np.logical_and.reduce([rloci, iolaps, outls])\n",
    "print(f'reversal outlier loci in island overlapping regions = {np.sum(iorloci)}')\n",
    "iodloci = np.logical_and.reduce([dloci, iolaps, outls])\n",
    "print(f'directional outlier loci in island overlapping regions = {np.sum(iodloci)}')"
   ]
  },
  {
   "cell_type": "code",
   "execution_count": null,
   "metadata": {},
   "outputs": [],
   "source": [
    "iids = otab[:,['BM_HMM_Island', 'MT_HMM_Island']].X_.astype(int).T\n",
    "\n",
    "bmiids, mtiids = smap(iids, lambda x: _unique(x[iorloci], -1))\n",
    "print(f'BM islands with reversal outlier loci = {len(bmiids)}')\n",
    "print(f'MT islands with reversal outlier loci = {len(mtiids)}')\n",
    "\n",
    "bmgids, mtgids = smap(\n",
    "    zip(iids, [bmiids,mtiids]), \n",
    "    unpack(lambda ids,uid: [_unique(otab.ridx_.gene[ids == i], '') for i in uid]),\n",
    "    lambda x: np.unique(fold(x, np.union1d)),\n",
    ")\n",
    "print(f'BM islands with reversal outlier loci contain genes = {len(bmgids)}')\n",
    "print(f'MT islands with reversal outlier loci contain genes = {len(mtgids)}')"
   ]
  },
  {
   "cell_type": "markdown",
   "metadata": {},
   "source": [
    "### 2.3. Stats"
   ]
  },
  {
   "cell_type": "markdown",
   "metadata": {},
   "source": [
    "Test BM island sizes significantly larger than MT"
   ]
  },
  {
   "cell_type": "code",
   "execution_count": null,
   "metadata": {},
   "outputs": [],
   "source": [
    "_neuc = lambda x: np.max(x)-np.min(x)+1\n",
    "\n",
    "def _island_size(dval):\n",
    "    uids = np.unique(dval[0].X_[:,0])\n",
    "    uids = uids[uids != -1]\n",
    "    poss = dval[2]\n",
    "    assert len(uids) == len(poss)\n",
    "    return {i: _neuc(p) for i,p in zip(uids,poss)}\n",
    "\n",
    "bmldcts, mtldcts = smap((bmhdct, mthdct), lambda x: smap(x.values(), _island_size))\n",
    "bmldct = {} \n",
    "for d in bmldcts: bmldct.update(d)\n",
    "mtldct = {} \n",
    "for d in mtldcts: mtldct.update(d)"
   ]
  },
  {
   "cell_type": "code",
   "execution_count": null,
   "metadata": {},
   "outputs": [],
   "source": [
    "bmilens, mtilens = smap(\n",
    "    zip([bmiids,mtiids], [bmldct,mtldct]),\n",
    "    unpack(lambda i,d: np.array(itemgetter(*i)(d))),\n",
    ")\n",
    "print(f'Length of BM islands with reversal outlier loci = {np.sum(bmilens)}')\n",
    "print(f'Length of MT islands with reversal outlier loci = {np.sum(mtilens)}')"
   ]
  },
  {
   "cell_type": "code",
   "execution_count": null,
   "metadata": {},
   "outputs": [],
   "source": [
    "_mwu = lambda x,y: mannwhitneyu(x, y, alternative = 'greater')\n",
    "print(f'BM islands size larger than MT = {_mwu(bmilens, mtilens,)}')"
   ]
  },
  {
   "cell_type": "markdown",
   "metadata": {},
   "source": [
    "Test number of reversal outlier significantly larger than expected"
   ]
  },
  {
   "cell_type": "code",
   "execution_count": null,
   "metadata": {},
   "outputs": [],
   "source": [
    "N = otab.nrow\n",
    "bcnts = otab[:,['B_Counts0','B_Counts1']].X_.reshape((N,1,2))\n",
    "mcnts = otab[:,['M_Counts0','M_Counts1']].X_.reshape((N,1,2))\n",
    "tcnts = otab[:,['T_Counts0','T_Counts1']].X_.reshape((N,1,2))\n",
    "cnts = np.hstack([bcnts, mcnts, tcnts])\n",
    "\n",
    "def _chi2(counts):\n",
    "    a1, b1, a2, b2 = counts.T\n",
    "    s1, s2 = a1 + b1, a2 + b2\n",
    "    stats = (s1+s2)/(s1*s2) * np.power(a1*b2-a2*b1,2)/((a1+a2)*(b1+b2))\n",
    "    pvals = 1 - chi2.cdf(stats, 1)\n",
    "    return pvals\n",
    "\n",
    "def _perm(_):\n",
    "    pcnt = np.apply_along_axis(np.random.permutation, 1, cnts) + 1 # avoid zero division\n",
    "    bmpvals = _chi2(pcnt[:,:2,:].reshape((N,4)))\n",
    "    mtpvals = _chi2(pcnt[:,1:,:].reshape((N,4)))\n",
    "    \n",
    "    pouts = np.logical_and(bmpvals < 0.01, mtpvals < 0.01)\n",
    "    \n",
    "    lcnts = pcnt[:,:,0]\n",
    "    rlocs = np.logical_or(\n",
    "        np.logical_and.reduce([lcnts[:,0] < lcnts[:,1], lcnts[:,1] > lcnts[:,2], pouts]),\n",
    "        np.logical_and.reduce([lcnts[:,0] > lcnts[:,1], lcnts[:,1] < lcnts[:,2], pouts]),\n",
    "    )\n",
    "    return np.sum(rlocs), np.hstack([lcnts, bmpvals.reshape((-1,1)), mtpvals.reshape((-1,1))])\n",
    "\n",
    "nperm = 100\n",
    "perms = pmap(range(nperm), _perm)"
   ]
  },
  {
   "cell_type": "code",
   "execution_count": null,
   "metadata": {},
   "outputs": [],
   "source": [
    "mrevs = np.array(smap(perms, itemgetter(0)))\n",
    "pperc = np.sum(mrevs >= np.sum(orloci)) / nperm\n",
    "print(f'on {nperm} permutations p-value = {pperc} ({int(np.round(np.mean(mrevs)))} vs {np.sum(orloci)})')"
   ]
  },
  {
   "cell_type": "markdown",
   "metadata": {},
   "source": [
    "## 3. Island Overlapping"
   ]
  },
  {
   "cell_type": "markdown",
   "metadata": {},
   "source": [
    "### 3.1. Identify Overlaps"
   ]
  },
  {
   "cell_type": "code",
   "execution_count": null,
   "metadata": {},
   "outputs": [],
   "source": [
    "bmiids, mtiids = otab[:,['BM_HMM_Island', 'MT_HMM_Island']].X_.astype(int).T\n",
    "obmuiid, omtuiid = smap((bmiids, mtiids), lambda x: _unique(x[iorloci], -1))"
   ]
  },
  {
   "cell_type": "code",
   "execution_count": null,
   "metadata": {},
   "outputs": [],
   "source": [
    "oiolaps = np.logical_and(\n",
    "    np.logical_or.reduce([bmiids == i for i in obmuiid]),\n",
    "    np.logical_or.reduce([mtiids == i for i in omtuiid]),\n",
    ")\n",
    "assert np.all(oiolaps[iorloci] == True)"
   ]
  },
  {
   "cell_type": "code",
   "execution_count": null,
   "metadata": {},
   "outputs": [],
   "source": [
    "sfs = otab.ridx_.scaffold\n",
    "usf = _ordunique(sfs)\n",
    "olp = oiolaps.astype(int) - 1\n",
    "\n",
    "def _smx(us, mi = 0, rl = []): \n",
    "    sf, us = us[0], us[1:]\n",
    "    mids = olp[sfs == sf]\n",
    "    \n",
    "    inblk = False\n",
    "    blkid = 0\n",
    "    for i,v in enumerate(mids):\n",
    "        if v == -1: \n",
    "            if inblk: inblk = False; blkid += 1\n",
    "        else:\n",
    "            if not inblk: inblk = True\n",
    "            mids[i] = blkid\n",
    "    mids[mids != -1] += mi\n",
    "    \n",
    "    mi += np.unique(mids[mids != -1]).shape[0]\n",
    "    rl += [mids]\n",
    "    return rl if len(us) == 0 else _smx(us, mi, rl)\n",
    "\n",
    "olpids = np.hstack(_smx(usf, mi = 0, rl = []))\n",
    "uolpid = _unique(olpids, -1)\n",
    "print(f'{len(uolpid)} overlapping regions found')"
   ]
  },
  {
   "cell_type": "code",
   "execution_count": null,
   "metadata": {},
   "outputs": [],
   "source": [
    "for i in uolpid:\n",
    "    if not any(iorloci[olpids == i] == True): olpids[olpids == i] = -1    \n",
    "uolpid = _unique(olpids, -1)\n",
    "print(f'{len(uolpid)} overlapping regions with outliers')"
   ]
  },
  {
   "cell_type": "code",
   "execution_count": null,
   "metadata": {},
   "outputs": [],
   "source": [
    "otab = otab.append(Table(olpids.reshape(-1,1), colnames = ['Island_Overlaps']), axis = 1)"
   ]
  },
  {
   "cell_type": "markdown",
   "metadata": {},
   "source": [
    "### 3.2. Overlap summary"
   ]
  },
  {
   "cell_type": "code",
   "execution_count": null,
   "metadata": {},
   "outputs": [],
   "source": [
    "olaps = np.zeros_like(oiolaps, dtype = bool)\n",
    "for i in uolpid: olaps[olpids == i] = True"
   ]
  },
  {
   "cell_type": "code",
   "execution_count": null,
   "metadata": {},
   "outputs": [],
   "source": [
    "olpbmiids = np.unique(bmiids[olaps])\n",
    "print(f'BM islands with reversal outliers overlapping with MT islands = {olpbmiids.shape[0]}')\n",
    "olpbmlens = np.sum(itemgetter(*olpbmiids)(bmldct))\n",
    "print(f'Length of overlappign BM islands = {olpbmlens}')\n",
    "\n",
    "olpmtiids = np.unique(mtiids[olaps])\n",
    "print(f'MT islands with reversal outliers overlapping with BT islands = {olpmtiids.shape[0]}')\n",
    "olpmtlens = np.sum(itemgetter(*olpmtiids)(mtldct))\n",
    "print(f'Length of overlappign MT islands = {olpmtlens}')"
   ]
  },
  {
   "cell_type": "code",
   "execution_count": null,
   "metadata": {},
   "outputs": [],
   "source": [
    "_size = lambda x: np.max(x)-np.min(x)+1\n",
    "pos = otab.ridx_.pos\n",
    "olplens = np.array([_size(pos[olpids == i]) for i in uolpid])\n",
    "print(f'Length of overlapping region = {np.sum(olplens)}')"
   ]
  },
  {
   "cell_type": "code",
   "execution_count": null,
   "metadata": {},
   "outputs": [],
   "source": [
    "olpgids = _unique(otab.ridx_.gene[olaps], '')\n",
    "print(f'Genes in overlapping region = {olpgids.shape[0]}')"
   ]
  },
  {
   "cell_type": "code",
   "execution_count": null,
   "metadata": {},
   "outputs": [],
   "source": [
    "olpbmgids = _unique(otab.ridx_.gene[np.logical_or.reduce([bmiids == i for i in olpbmiids])], '')\n",
    "print(f'Genes in overlapped BM islands = {olpbmgids.shape[0]}')"
   ]
  },
  {
   "cell_type": "code",
   "execution_count": null,
   "metadata": {},
   "outputs": [],
   "source": [
    "hhkgids = np.setdiff1d(olpbmgids, olpgids) \n",
    "print(f'Hitchhiking genes = {hhkgids.shape[0]}') # Life, the Universe and Everything"
   ]
  },
  {
   "cell_type": "code",
   "execution_count": null,
   "metadata": {},
   "outputs": [],
   "source": [
    "gcnts = np.array(smap(uolpid, lambda i: len(_unique(otab.ridx_.gene[olpids == i], ''))))\n",
    "for g,c in Counter(gcnts).most_common(): print(f'{c} overlap region(s) contain {g} genes')"
   ]
  },
  {
   "cell_type": "code",
   "execution_count": null,
   "metadata": {},
   "outputs": [],
   "source": [
    "olpbmids = np.hstack([_unique(bmiids[olpids == oi], -1) for oi in uolpid])\n",
    "obmsizes = np.array([np.sum(bmiids == i) for i in olpbmids])\n",
    "\n",
    "olpmtids = np.hstack([_unique(mtiids[olpids == oi], -1) for oi in uolpid])\n",
    "omtsizes = np.array([np.sum(mtiids == i) for i in olpmtids])\n",
    "\n",
    "olpsizes = np.vstack([obmsizes, omtsizes])\n",
    "ccs = np.array([np.sum(olpids == oi) for oi in uolpid]).astype(float) / np.min(olpsizes, axis = 0)\n",
    "\n",
    "print(f'{np.min(ccs)} |-- {np.mean(ccs)} | {np.median(ccs)}  --| {np.max(ccs)}')"
   ]
  },
  {
   "cell_type": "code",
   "execution_count": null,
   "metadata": {},
   "outputs": [],
   "source": []
  }
 ],
 "metadata": {
  "kernelspec": {
   "display_name": "Python3",
   "language": "python",
   "name": "python3"
  },
  "language_info": {
   "codemirror_mode": {
    "name": "ipython",
    "version": 3
   },
   "file_extension": ".py",
   "mimetype": "text/x-python",
   "name": "python",
   "nbconvert_exporter": "python",
   "pygments_lexer": "ipython3",
   "version": "3.7.6"
  }
 },
 "nbformat": 4,
 "nbformat_minor": 4
}
