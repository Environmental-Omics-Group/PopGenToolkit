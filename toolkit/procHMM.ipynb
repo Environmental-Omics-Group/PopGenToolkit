{
 "cells": [
  {
   "cell_type": "markdown",
   "metadata": {},
   "source": [
    "# HMM Islands Modelling and Analysis"
   ]
  },
  {
   "cell_type": "markdown",
   "metadata": {},
   "source": [
    "## 0. Prerequisites"
   ]
  },
  {
   "cell_type": "markdown",
   "metadata": {},
   "source": [
    "### 0.1. Dependencies"
   ]
  },
  {
   "cell_type": "code",
   "execution_count": 30,
   "metadata": {},
   "outputs": [],
   "source": [
    "import re\n",
    "import pickle as pkl\n",
    "import numpy as np\n",
    "from kagami.comm import paste, smap, fold\n",
    "from kagami.dtypes import Table"
   ]
  },
  {
   "cell_type": "markdown",
   "metadata": {},
   "source": [
    "### 0.2. Routines"
   ]
  },
  {
   "cell_type": "code",
   "execution_count": 8,
   "metadata": {},
   "outputs": [],
   "source": [
    "def _unique(x, ignore = ''):\n",
    "    ux = np.unique(x)\n",
    "    return ux[ux != ignore]"
   ]
  },
  {
   "cell_type": "code",
   "execution_count": 10,
   "metadata": {},
   "outputs": [],
   "source": [
    "def _ordunique(a):\n",
    "    a = np.asarray(a)\n",
    "    _, idx = np.unique(a, return_index = True)\n",
    "    return a[np.sort(idx)]"
   ]
  },
  {
   "cell_type": "markdown",
   "metadata": {},
   "source": [
    "### 0.3. Load merged data"
   ]
  },
  {
   "cell_type": "code",
   "execution_count": 9,
   "metadata": {},
   "outputs": [],
   "source": [
    "otab = Table.loadhdf(\n",
    "    '../data/temporal/BMT_filter_withoutAF_90percent.filtered.merged_table.hdf',\n",
    ")"
   ]
  },
  {
   "cell_type": "markdown",
   "metadata": {},
   "source": [
    "## 1. Identify HMM Islands"
   ]
  },
  {
   "cell_type": "code",
   "execution_count": 21,
   "metadata": {},
   "outputs": [],
   "source": [
    "def _hmm_islands(col, name):\n",
    "    sfs = otab.ridx_.scaffold\n",
    "    usf = _ordunique(sfs)\n",
    "    \n",
    "    _r = re.compile('(3{3,})')\n",
    "    def _summ(s,lasti):\n",
    "        stab = otab[sfs == s,col]\n",
    "        itab = Table(-np.ones_like(stab, dtype = int), \n",
    "                     rownames = otab.rows_[sfs == s], colnames = [name])\n",
    "        \n",
    "        sv = stab.X_[:,0].astype(int)\n",
    "        ss = paste(sv[sv != -1].astype(str))\n",
    "        res = list(_r.finditer(ss))\n",
    "        \n",
    "        iv = -np.ones(len(ss), dtype = int)\n",
    "        for i,r in enumerate(res): iv[r.start():r.end()] = i\n",
    "        iv[iv != -1] += lasti\n",
    "        itab.X_[sv != -1] = iv.reshape((-1,1))\n",
    "        \n",
    "        stab = stab[sv != -1]\n",
    "        lns = smap(res, lambda x: len(x.group()))\n",
    "        pos = smap(res, lambda x: np.sort(stab.ridx_.pos[slice(*x.span())]))\n",
    "        return (itab, lns, pos), max(np.max(iv)+1, lasti)\n",
    "\n",
    "    odct, lid = {}, 0\n",
    "    for sf in usf:\n",
    "        odct[sf],lid = _summ(sf,lid)\n",
    "    return odct"
   ]
  },
  {
   "cell_type": "code",
   "execution_count": 22,
   "metadata": {},
   "outputs": [],
   "source": [
    "bmdct = _hmm_islands('BM_HMM_State', 'BM_HMM_Island')\n",
    "mtdct = _hmm_islands('MT_HMM_State', 'MT_HMM_Island')"
   ]
  },
  {
   "cell_type": "markdown",
   "metadata": {},
   "source": [
    "Save to file to avoid repeat running"
   ]
  },
  {
   "cell_type": "code",
   "execution_count": 25,
   "metadata": {},
   "outputs": [],
   "source": [
    "oprefix = '../data/temporal/BMT_filter_withoutAF_90percent.filtered.'\n",
    "# with open(oprefix + 'BM_hmmdct.pkl', 'wb') as f: pkl.dump(bmdct, f)\n",
    "# with open(oprefix + 'MT_hmmdct.pkl', 'wb') as f: pkl.dump(mtdct, f)\n",
    "\n",
    "with open(oprefix + 'BM_hmmdct.pkl', 'rb') as f: bmdct = pkl.load(f)\n",
    "with open(oprefix + 'MT_hmmdct.pkl', 'rb') as f: mtdct = pkl.load(f)    "
   ]
  },
  {
   "cell_type": "markdown",
   "metadata": {},
   "source": [
    "Insert to table"
   ]
  },
  {
   "cell_type": "code",
   "execution_count": 31,
   "metadata": {},
   "outputs": [],
   "source": [
    "itabs = smap(bmdct.values(), lambda x: x[0])\n",
    "bmitab = fold(itabs, lambda x,y: x.append(y, axis = 0))\n",
    "\n",
    "itabs = smap(mtdct.values(), lambda x: x[0])\n",
    "mtitab = fold(itabs, lambda x,y: x.append(y, axis = 0))"
   ]
  },
  {
   "cell_type": "code",
   "execution_count": 32,
   "metadata": {},
   "outputs": [],
   "source": [
    "otab = otab.append(bmitab[otab.rows_], axis = 1).append(mtitab[otab.rows_], axis = 1)"
   ]
  },
  {
   "cell_type": "markdown",
   "metadata": {},
   "source": [
    "## 2. Outliers"
   ]
  },
  {
   "cell_type": "code",
   "execution_count": 36,
   "metadata": {},
   "outputs": [
    {
     "name": "stdout",
     "output_type": "stream",
     "text": [
      "BM outliers = 16607\n",
      "MT outliers = 4631\n"
     ]
    }
   ],
   "source": [
    "pvals = otab[:,['BM_Waples_Test_P', 'MT_Waples_Test_P']].X_.T\n",
    "bmoutls, mtoutls = smap(pvals, lambda x: np.logical_and(~np.isnan(x), x < 0.01))\n",
    "print(f'BM outliers = {np.sum(bmoutls)}')\n",
    "print(f'MT outliers = {np.sum(mtoutls)}')"
   ]
  },
  {
   "cell_type": "code",
   "execution_count": 4,
   "metadata": {},
   "outputs": [
    {
     "name": "stdout",
     "output_type": "stream",
     "text": [
      "BM genes with outlier = 4103\n",
      "MT genes with outlier = 1935\n"
     ]
    }
   ],
   "source": [
    "bmsgids = np.unique(aftab[bmoutls].ridx_.gene)\n",
    "bmsgids = bmsgids[bmsgids != '']\n",
    "print(f'BM genes with outlier = {len(bmsgids)}')\n",
    "\n",
    "mtsgids = np.unique(aftab[mtoutls].ridx_.gene)\n",
    "mtsgids = mtsgids[mtsgids != '']\n",
    "print(f'MT genes with outlier = {len(mtsgids)}')"
   ]
  }
 ],
 "metadata": {
  "kernelspec": {
   "display_name": "Python3",
   "language": "python",
   "name": "python3"
  },
  "language_info": {
   "codemirror_mode": {
    "name": "ipython",
    "version": 3
   },
   "file_extension": ".py",
   "mimetype": "text/x-python",
   "name": "python",
   "nbconvert_exporter": "python",
   "pygments_lexer": "ipython3",
   "version": "3.7.6"
  }
 },
 "nbformat": 4,
 "nbformat_minor": 4
}
