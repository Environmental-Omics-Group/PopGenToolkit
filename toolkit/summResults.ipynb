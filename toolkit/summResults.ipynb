{
 "cells": [
  {
   "cell_type": "markdown",
   "metadata": {},
   "source": [
    "# Summarise Results"
   ]
  },
  {
   "cell_type": "markdown",
   "metadata": {},
   "source": [
    "## Dependencies"
   ]
  },
  {
   "cell_type": "code",
   "execution_count": 1,
   "metadata": {},
   "outputs": [],
   "source": [
    "import re, os\n",
    "import numpy as np\n",
    "from kagami.comm import smap, pmap, paste, pick, drop, fold, filePath, filePrefix\n",
    "from kagami.portals import textPortal, tablePortal\n",
    "from kagami.dtypes import Table"
   ]
  },
  {
   "cell_type": "markdown",
   "metadata": {},
   "source": [
    "## Import VCFTools Results"
   ]
  },
  {
   "cell_type": "markdown",
   "metadata": {},
   "source": [
    "Load result tables"
   ]
  },
  {
   "cell_type": "code",
   "execution_count": 2,
   "metadata": {},
   "outputs": [],
   "source": [
    "def _loadafs(fname, bg, tg):\n",
    "    dm = np.array(tablePortal.loadtsv(fname))\n",
    "    scf, pos, af0, af1, _ = dm.T\n",
    "    tab = Table(\n",
    "        np.vstack([af0, af1]).astype(float).T,\n",
    "        rownames = smap(zip(scf,pos), lambda x: paste(x, sep='_')),\n",
    "        colnames = [f'{tg}_AFs', f'{bg}_AFs'],\n",
    "    )\n",
    "    return tab"
   ]
  },
  {
   "cell_type": "code",
   "execution_count": 3,
   "metadata": {},
   "outputs": [],
   "source": [
    "bmafs = _loadafs('../data/temporal/BMT_filter_withoutAF_90percent_BM_AFs', 'B', 'M')\n",
    "mtafs = _loadafs('../data/temporal/BMT_filter_withoutAF_90percent_MT_AFs', 'M', 'T')"
   ]
  },
  {
   "cell_type": "markdown",
   "metadata": {},
   "source": [
    "Check value consistency and merge tables"
   ]
  },
  {
   "cell_type": "code",
   "execution_count": 4,
   "metadata": {},
   "outputs": [],
   "source": [
    "sids = np.intersect1d(bmafs.rows_, mtafs.rows_)\n",
    "bmafs, mtafs = bmafs[sids], mtafs[sids]"
   ]
  },
  {
   "cell_type": "code",
   "execution_count": 5,
   "metadata": {},
   "outputs": [],
   "source": [
    "assert np.all(bmafs[:,'M_AFs'].X_[:,0] == mtafs[:,'M_AFs'].X_[:,0])\n",
    "aftab = bmafs[:,['B_AFs', 'M_AFs']].append(mtafs[:,'T_AFs'], axis = 1)"
   ]
  },
  {
   "cell_type": "markdown",
   "metadata": {},
   "source": [
    "Save share loci for gene filtering"
   ]
  },
  {
   "cell_type": "code",
   "execution_count": null,
   "metadata": {},
   "outputs": [],
   "source": [
    "tablePortal.savecsv(\n",
    "    np.array(aftab.rows_).reshape((-1,1)), \n",
    "    '../data/temporal/BMT_filter_withoutAF_90percent_BMT_shared_loci',\n",
    ")"
   ]
  },
  {
   "cell_type": "markdown",
   "metadata": {},
   "source": [
    "## Import Allele Counts"
   ]
  },
  {
   "cell_type": "code",
   "execution_count": 6,
   "metadata": {},
   "outputs": [],
   "source": [
    "def _loadcnts(fname, pop):\n",
    "    dm = np.array(tablePortal.loadtsv(fname)[1:])\n",
    "    scf, pos, _, _, cnt0, cnt1 = dm.T\n",
    "    tab = Table(\n",
    "        np.vstack([cnt0, cnt1]).T.astype(int),\n",
    "        rownames = smap(zip(scf,pos), lambda x: paste(x, sep='_')),\n",
    "        colnames = [f'{pop}_Counts0', f'{pop}_Counts1']\n",
    "    )\n",
    "    return tab"
   ]
  },
  {
   "cell_type": "code",
   "execution_count": 7,
   "metadata": {},
   "outputs": [],
   "source": [
    "bcnts = _loadcnts('../data/temporal/BMT_filter_withoutAF_90percent.filtered.B.frq.count', 'B')\n",
    "mcnts = _loadcnts('../data/temporal/BMT_filter_withoutAF_90percent.filtered.M.frq.count', 'M')\n",
    "tcnts = _loadcnts('../data/temporal/BMT_filter_withoutAF_90percent.filtered.T.frq.count', 'T')"
   ]
  },
  {
   "cell_type": "code",
   "execution_count": 8,
   "metadata": {},
   "outputs": [],
   "source": [
    "cntab = bcnts.append(mcnts, axis = 1).append(tcnts, axis = 1)"
   ]
  },
  {
   "cell_type": "markdown",
   "metadata": {},
   "source": [
    "## Import TAFT Results"
   ]
  },
  {
   "cell_type": "code",
   "execution_count": 9,
   "metadata": {},
   "outputs": [],
   "source": [
    "_sre = re.compile('(scaffold\\d{5}_\\d+)')\n",
    "\n",
    "def _loadtab(ifname):\n",
    "    lns = textPortal.loadlns(ifname)\n",
    "    loc = np.array(drop(smap(lns, _sre.findall, lambda x: None if len(x) == 0 else x[0]), None))\n",
    "    \n",
    "    rfname = filePrefix(ifname) + '_out.csv'\n",
    "    rdm = tablePortal.loadcsv(rfname)\n",
    "    rhd, rdm = rdm[0][1:], np.array(rdm[1:])[:,1:-1]\n",
    "    \n",
    "    assert len(loc) == len(rdm), 'loci and results size not match'\n",
    "    rtab = Table(\n",
    "        rdm.astype(float), \n",
    "        rownames = loc, colnames = smap(rhd, lambda x: x.strip())        \n",
    "    )\n",
    "    return rtab\n",
    "\n",
    "def _loadtfs(idxfile, cmp):\n",
    "    ipath = filePath(idxfile)\n",
    "    \n",
    "    iflst = np.array(tablePortal.loadcsv(idxfile)).flatten()\n",
    "    ifnames = smap(iflst, lambda x: os.path.join(ipath, x))\n",
    "\n",
    "    tftabs = pmap(ifnames, _loadtab)\n",
    "    tftab  = fold(tftabs, lambda x,y: x.append(y))\n",
    "    tftab.cols_ = smap(tftab.cols_, lambda x: f'{cmp}_{x}')\n",
    "    \n",
    "    return tftab"
   ]
  },
  {
   "cell_type": "code",
   "execution_count": 10,
   "metadata": {},
   "outputs": [],
   "source": [
    "bmtfs = _loadtfs(\n",
    "    '../../results/temporal/fst_hmm/BMT_count_AF_BM_MT_Fst_waples_AF_filtered_724321_BM_info_files/index.txt',\n",
    "    'BM',\n",
    ")\n",
    "mttfs = _loadtfs(\n",
    "    '../../results/temporal/fst_hmm/BMT_count_AF_BM_MT_Fst_waples_AF_filtered_724321_MT_info_files/index.txt',\n",
    "    'MT',\n",
    ")\n",
    "\n",
    "sids = np.intersect1d(bmtfs.rows_, mttfs.rows_)\n",
    "tftab = bmtfs[sids].append(mttfs[sids], axis = 1)"
   ]
  },
  {
   "cell_type": "markdown",
   "metadata": {},
   "source": [
    "## Import Fst Results"
   ]
  },
  {
   "cell_type": "code",
   "execution_count": 11,
   "metadata": {},
   "outputs": [],
   "source": [
    "fstdm = np.array(tablePortal.load(\n",
    "    '../../results/temporal/fst_hmm/final_BM_MT_Fst_724321_AF_filtered_loci', \n",
    "    delimiter = ' ',\n",
    "))"
   ]
  },
  {
   "cell_type": "code",
   "execution_count": 12,
   "metadata": {},
   "outputs": [],
   "source": [
    "sids, bmfst, mtfst = fstdm[1:].T\n",
    "bmfst[bmfst == 'NA'] = 'nan'\n",
    "mtfst[mtfst == 'NA'] = 'nan'\n",
    "\n",
    "fstab = Table(\n",
    "    np.vstack([bmfst, mtfst]).T, dtype = float, \n",
    "    rownames = sids, colnames = ['BM_Fst', 'MT_Fst'],\n",
    ")\n",
    "\n",
    "nrids = np.sum(np.isnan(fstab.X_), axis = 1) > 0\n",
    "fstab = fstab[~nrids]"
   ]
  },
  {
   "cell_type": "markdown",
   "metadata": {},
   "source": [
    "Save Fst for HMM modelling"
   ]
  },
  {
   "cell_type": "code",
   "execution_count": null,
   "metadata": {},
   "outputs": [],
   "source": [
    "fsts = fstab.X_.flatten(order = 'F')\n",
    "tablePortal.savecsv(\n",
    "    np.hstack(['x', fsts]).reshape((-1,1)), \n",
    "    '../data/temporal/BMT_filter_withoutAF_90percent_BMT_shared_loci_filtered_fst',\n",
    ")"
   ]
  },
  {
   "cell_type": "markdown",
   "metadata": {},
   "source": [
    "## Import HMM States Results"
   ]
  },
  {
   "cell_type": "code",
   "execution_count": 13,
   "metadata": {},
   "outputs": [],
   "source": [
    "stats = np.array(tablePortal.load(\n",
    "    '../../results/temporal/fst_hmm/final_BM_MT_Fst_724321_AF_filtered_loci_fst_results/_3state_HMMstates.txt', \n",
    "    delimiter = ' ',\n",
    ")[1:])\n",
    "stats = stats[:,1].astype(int)"
   ]
  },
  {
   "cell_type": "code",
   "execution_count": 14,
   "metadata": {},
   "outputs": [],
   "source": [
    "hmms = -np.ones(fstab.nrow * fstab.ncol)\n",
    "\n",
    "fsts = fstab.X_.flatten(order = 'F')\n",
    "orids = fsts <= np.quantile(fsts, 0.001)\n",
    "hmms[~orids] = stats\n",
    "\n",
    "hmtab = Table(\n",
    "    hmms.reshape((-1,2), order = 'F'), dtype = float, \n",
    "    rownames = fstab.rows_, colnames = ['BM_HMM_State', 'MT_HMM_State'],    \n",
    ")"
   ]
  },
  {
   "cell_type": "markdown",
   "metadata": {},
   "source": [
    "## Merge Tables"
   ]
  },
  {
   "cell_type": "code",
   "execution_count": 15,
   "metadata": {},
   "outputs": [],
   "source": [
    "tabs = [cntab, aftab, tftab, fstab, hmtab]"
   ]
  },
  {
   "cell_type": "code",
   "execution_count": 16,
   "metadata": {},
   "outputs": [],
   "source": [
    "sids = fold(smap(tabs, lambda x: x.rows_), lambda x,y: np.intersect1d(x,y))\n",
    "tabs = smap(tabs, lambda x: x[sids])"
   ]
  },
  {
   "cell_type": "code",
   "execution_count": 17,
   "metadata": {},
   "outputs": [],
   "source": [
    "mtab = fold(tabs, lambda x,y: x.append(y, axis = 1))"
   ]
  },
  {
   "cell_type": "markdown",
   "metadata": {},
   "source": [
    "Sort loci IDs"
   ]
  },
  {
   "cell_type": "code",
   "execution_count": 18,
   "metadata": {},
   "outputs": [],
   "source": [
    "sids = sorted(mtab.rows_, key = lambda x: (int(x.split('_',1)[0][8:]), int(x.split('_',1)[1])))\n",
    "mtab = mtab[sids]"
   ]
  },
  {
   "cell_type": "markdown",
   "metadata": {},
   "source": [
    "Insert scaffolds and pos"
   ]
  },
  {
   "cell_type": "code",
   "execution_count": 19,
   "metadata": {},
   "outputs": [],
   "source": [
    "mtab.ridx_ = {\n",
    "    'scaffold': smap(mtab.rows_, lambda x: x.split('_',1)[0]), \n",
    "    'pos': smap(mtab.rows_, lambda x: int(x.split('_',1)[1])),\n",
    "}"
   ]
  },
  {
   "cell_type": "markdown",
   "metadata": {},
   "source": [
    "Insert gene info"
   ]
  },
  {
   "cell_type": "code",
   "execution_count": 20,
   "metadata": {},
   "outputs": [],
   "source": [
    "topg = tablePortal.loadcsv('../data/temporal/BMT_filter_withoutAF_90percent_BMT_shared_loci_filtered_genes')\n",
    "topg = np.array(topg).flatten()\n",
    "grng = tablePortal.loadcsv('../data/references/all_scaffolds_all_genes_range')\n",
    "grng = pick(grng, lambda x: x[-1] in topg)"
   ]
  },
  {
   "cell_type": "code",
   "execution_count": 21,
   "metadata": {},
   "outputs": [],
   "source": [
    "mtab.ridx_['gene'] = np.array([''] * mtab.nrow, dtype = 'U16')\n",
    "\n",
    "def _insert(scf):\n",
    "    srng = np.array(pick(grng, lambda x: x[0] == scf))\n",
    "    if len(srng) == 0: return\n",
    "    gids,rngs = srng[:,-1], srng[:,[1,2]].astype(int)\n",
    "\n",
    "    gpos = np.zeros(np.max(rngs), dtype = np.uint16) \n",
    "    for i,(st,ed) in enumerate(rngs): gpos[st-1:ed] = i+1\n",
    "    \n",
    "    spos = mtab.ridx_.pos[mtab.ridx_.scaffold == scf]\n",
    "    glst = smap(spos, lambda x: gpos[x-1] if x <= gpos.shape[0] else 0, lambda x: '' if x == 0 else gids[x-1])\n",
    "    mtab.ridx_.gene[mtab.ridx_.scaffold == scf] = glst\n",
    "    \n",
    "_ = smap(np.unique(mtab.ridx_.scaffold), _insert)"
   ]
  },
  {
   "cell_type": "markdown",
   "metadata": {},
   "source": [
    "Save to files"
   ]
  },
  {
   "cell_type": "code",
   "execution_count": null,
   "metadata": {},
   "outputs": [],
   "source": [
    "mtab.savehdf(\n",
    "    '../data/temporal/BMT_filter_withoutAF_90percent.filtered.merged_table.hdf',\n",
    ")\n",
    "\n",
    "mtab.savecsv(\n",
    "    '../data/temporal/BMT_filter_withoutAF_90percent.filtered.merged_table.csv',\n",
    "    transpose = False,\n",
    ")"
   ]
  },
  {
   "cell_type": "code",
   "execution_count": null,
   "metadata": {},
   "outputs": [],
   "source": []
  }
 ],
 "metadata": {
  "kernelspec": {
   "display_name": "Python3",
   "language": "python",
   "name": "python3"
  },
  "language_info": {
   "codemirror_mode": {
    "name": "ipython",
    "version": 3
   },
   "file_extension": ".py",
   "mimetype": "text/x-python",
   "name": "python",
   "nbconvert_exporter": "python",
   "pygments_lexer": "ipython3",
   "version": "3.7.6"
  }
 },
 "nbformat": 4,
 "nbformat_minor": 4
}
